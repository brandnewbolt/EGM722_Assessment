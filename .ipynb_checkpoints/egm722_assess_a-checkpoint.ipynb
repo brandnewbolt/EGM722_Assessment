{
 "cells": [
  {
   "cell_type": "code",
   "execution_count": null,
   "id": "773a88ad",
   "metadata": {},
   "outputs": [],
   "source": [
    "#docstring here - what does the code do?"
   ]
  },
  {
   "cell_type": "code",
   "execution_count": 1,
   "id": "1ba15c33",
   "metadata": {},
   "outputs": [
    {
     "data": {
      "text/plain": [
       "<matplotlib.pyplot._IonContext at 0x268c1a322b0>"
      ]
     },
     "execution_count": 1,
     "metadata": {},
     "output_type": "execute_result"
    }
   ],
   "source": [
    "#import modules (straight from wk2&3 so far) - do i need more?\n",
    "import pandas as pd\n",
    "import geopandas as gpd\n",
    "import geopandas as gpd\n",
    "import matplotlib.pyplot as plt\n",
    "from cartopy.feature import ShapelyFeature\n",
    "import cartopy.crs as ccrs\n",
    "\n",
    "#enable interactive plotting\n",
    "plt.ion()"
   ]
  },
  {
   "cell_type": "code",
   "execution_count": 2,
   "id": "562d640b",
   "metadata": {},
   "outputs": [],
   "source": [
    "#Define functions\n",
    "#generate handles to create legend for map features\n",
    "def generate_handles(labels, colors, edge='k', alpha=1):\n",
    "    lc = len(colors)  # get the length of the color list\n",
    "    handles = []\n",
    "    for i in range(len(labels)):\n",
    "        handles.append(mpatches.Rectangle((0, 0), 1, 1, facecolor=colors[i % lc], edgecolor=edge, alpha=alpha))\n",
    "    return handles"
   ]
  },
  {
   "cell_type": "code",
   "execution_count": 3,
   "id": "fe3b9434",
   "metadata": {},
   "outputs": [],
   "source": [
    "# create a scale bar of length 20 km in the upper right corner of the map\n",
    "# adapted this question: https://stackoverflow.com/q/32333870\n",
    "# answered by SO user Siyh: https://stackoverflow.com/a/35705477\n",
    "def scale_bar(ax, location=(0.92, 0.95)):\n",
    "    llx0, llx1, lly0, lly1 = ax.get_extent(ccrs.PlateCarree())\n",
    "    sbllx = (llx1 + llx0) / 2\n",
    "    sblly = lly0 + (lly1 - lly0) * location[1]\n",
    "\n",
    "    tmc = ccrs.TransverseMercator(sbllx, sblly)\n",
    "    x0, x1, y0, y1 = ax.get_extent(tmc)\n",
    "    sbx = x0 + (x1 - x0) * location[0]\n",
    "    sby = y0 + (y1 - y0) * location[1]\n",
    "\n",
    "    plt.plot([sbx, sbx - 20000], [sby, sby], color='k', linewidth=9, transform=tmc)\n",
    "    plt.plot([sbx, sbx - 10000], [sby, sby], color='k', linewidth=6, transform=tmc)\n",
    "    plt.plot([sbx-10000, sbx - 20000], [sby, sby], color='w', linewidth=6, transform=tmc)\n",
    "\n",
    "    plt.text(sbx, sby-4500, '20 km', transform=tmc, fontsize=8)\n",
    "    plt.text(sbx-12500, sby-4500, '10 km', transform=tmc, fontsize=8)\n",
    "    plt.text(sbx-24500, sby-4500, '0 km', transform=tmc, fontsize=8)\n"
   ]
  },
  {
   "cell_type": "code",
   "execution_count": 4,
   "id": "f3ed6f7f",
   "metadata": {},
   "outputs": [
    {
     "name": "stdout",
     "output_type": "stream",
     "text": [
      "        LG_PLY_PID          LGA_PID             LGA_NAME     ABB_NAME STATE  \\\n",
      "0  lgp2e684100bbc7  lga5f9b3011df30  Break O'Day Council  Break O'Day   TAS   \n",
      "1  lgp402890785b9d  lga5f9b3011df30  Break O'Day Council  Break O'Day   TAS   \n",
      "2  lgp53e14f7c09e8  lga5f9b3011df30  Break O'Day Council  Break O'Day   TAS   \n",
      "3  lgp566d3f8ff708  lga5f9b3011df30  Break O'Day Council  Break O'Day   TAS   \n",
      "4  lgp58551735ceaa  lga5f9b3011df30  Break O'Day Council  Break O'Day   TAS   \n",
      "\n",
      "                                            geometry  \n",
      "0  POLYGON ((148.34616 -40.98751, 148.34618 -40.9...  \n",
      "1  POLYGON ((148.32977 -40.92128, 148.32975 -40.9...  \n",
      "2  POLYGON ((148.34611 -40.98577, 148.34612 -40.9...  \n",
      "3  POLYGON ((148.32837 -41.24787, 148.32839 -41.2...  \n",
      "4  POLYGON ((148.32170 -40.92134, 148.32172 -40.9...  \n"
     ]
    }
   ],
   "source": [
    "#load lga vector outline polygon for central highlands, check row header and CRS\n",
    "lga = gpd.read_file('data/tas_lga.shp')\n",
    "print(lga.head())"
   ]
  },
  {
   "cell_type": "code",
   "execution_count": 5,
   "id": "96f4bcc4",
   "metadata": {},
   "outputs": [
    {
     "name": "stdout",
     "output_type": "stream",
     "text": [
      "     LS_REGION     RAINFALL  \\\n",
      "0  King Island   750-1000mm   \n",
      "1  King Island   750-1000mm   \n",
      "2  King Island  1000-1250mm   \n",
      "3  King Island   750-1000mm   \n",
      "4  King Island   750-1000mm   \n",
      "\n",
      "                                             GEO_AGE  \\\n",
      "0                                 Siliurian-Devonian   \n",
      "1                                 Siliurian-Devonian   \n",
      "2  Lower Devonian-Tremadocian-Cambrian (Mathinna ...   \n",
      "3                                 Siliurian-Devonian   \n",
      "4                                 Siliurian-Devonian   \n",
      "\n",
      "                                                ROCK   ALTITUDE  \\\n",
      "0           Sedimentary argillaceous (e.g. mudstone)  0 to 300m   \n",
      "1           Sedimentary argillaceous (e.g. mudstone)  0 to 300m   \n",
      "2  Sedimentary calcareous (e.g. limestone, dolomite)  0 to 300m   \n",
      "3           Sedimentary argillaceous (e.g. mudstone)  0 to 300m   \n",
      "4           Sedimentary argillaceous (e.g. mudstone)  0 to 300m   \n",
      "\n",
      "                    LANDFORM  \\\n",
      "0  Coastal dunes and beaches   \n",
      "1  Coastal dunes and beaches   \n",
      "2          Undulating Plains   \n",
      "3                Flat Plains   \n",
      "4          Undulating Plains   \n",
      "\n",
      "                                            URL_LINK  \\\n",
      "0  https://nrmdatalibrary.dpipwe.tas.gov.au/FactS...   \n",
      "1  https://nrmdatalibrary.dpipwe.tas.gov.au/FactS...   \n",
      "2  https://nrmdatalibrary.dpipwe.tas.gov.au/FactS...   \n",
      "3  https://nrmdatalibrary.dpipwe.tas.gov.au/FactS...   \n",
      "4  https://nrmdatalibrary.dpipwe.tas.gov.au/FactS...   \n",
      "\n",
      "                                            geometry  \n",
      "0  POLYGON ((247516.536 5608635.826, 247512.160 5...  \n",
      "1  POLYGON ((247039.063 5608241.825, 247049.814 5...  \n",
      "2  POLYGON ((245560.772 5606508.817, 245530.990 5...  \n",
      "3  POLYGON ((244783.226 5606785.814, 244827.101 5...  \n",
      "4  POLYGON ((239119.835 5606334.294, 239130.116 5...  \n"
     ]
    }
   ],
   "source": [
    "#load land vector polygons for tasmania, check row header and CRS\n",
    "land = gpd.read_file('data/land_100k.shp')\n",
    "print(land.head())"
   ]
  },
  {
   "cell_type": "code",
   "execution_count": 6,
   "id": "bc3037b6",
   "metadata": {},
   "outputs": [
    {
     "name": "stdout",
     "output_type": "stream",
     "text": [
      "   WB_ID           WB_NAME       WB_AREA    WB_ELEV  SUBCAT_ID     WB_MAP  \\\n",
      "0   37.0  Pearshape Lagoon  76739.706135  67.955810    10007.0  PEARSHAPE   \n",
      "1   38.0              None  15753.090750   1.170759    47044.0    SELLARS   \n",
      "2   39.0              None  77035.664648   1.199716    47044.0    SELLARS   \n",
      "3   40.0              None  10551.538700   0.192473    47046.0      LOGAN   \n",
      "4   41.0              None  11750.059306   2.025227    47046.0      LOGAN   \n",
      "\n",
      "                       WB_INFO    SHAPE_AREA    SHAPE_LEN  \\\n",
      "0  https://wrt.tas.gov.au/cfev  76739.706135  1149.462374   \n",
      "1  https://wrt.tas.gov.au/cfev  15753.090750   524.353991   \n",
      "2  https://wrt.tas.gov.au/cfev  77035.664648  1167.638141   \n",
      "3  https://wrt.tas.gov.au/cfev  10551.538700   554.163424   \n",
      "4  https://wrt.tas.gov.au/cfev  11750.059306   589.776428   \n",
      "\n",
      "                                            geometry  \n",
      "0  POLYGON ((237371.256 5561317.364, 237390.755 5...  \n",
      "1  POLYGON ((606643.582 5561066.260, 606657.882 5...  \n",
      "2  POLYGON ((606214.999 5560582.112, 606197.883 5...  \n",
      "3  POLYGON ((609396.746 5559288.219, 609387.447 5...  \n",
      "4  POLYGON ((609544.012 5558755.179, 609548.631 5...  \n"
     ]
    }
   ],
   "source": [
    "#load water vector polygons for tasmania, check row header and CRS\n",
    "water = gpd.read_file('data/water.shp')\n",
    "print(water.head())"
   ]
  },
  {
   "cell_type": "code",
   "execution_count": 7,
   "id": "03367759",
   "metadata": {},
   "outputs": [
    {
     "name": "stdout",
     "output_type": "stream",
     "text": [
      "  REGION ROAD_NO       ROAD_NAME  START_CHNG  END_CHNG  LANE_KM  \\\n",
      "0     NE   A0087     Midland Hwy        0.00      0.80     0.80   \n",
      "1     NE   A0087     Midland HWY        3.38      3.72     0.33   \n",
      "2     NE   A1468    Illawarra MR        2.72      2.89     0.17   \n",
      "3      S   A0498   South Arm HWY        0.00      0.02     0.02   \n",
      "4     NE   A1565  Lady Barron MR        0.00      9.46    18.92   \n",
      "\n",
      "               ROAD_CAT                                           geometry  \n",
      "0            Trunk Road  LINESTRING (512389.184 5397211.740, 512425.095...  \n",
      "1            Trunk Road  LINESTRING (514982.907 5396553.993, 514978.202...  \n",
      "2            Trunk Road  LINESTRING (509665.705 5396414.450, 509683.641...  \n",
      "3  Regional Access Road  LINESTRING (533241.099 5252633.985, 533250.220...  \n",
      "4            Other Road  LINESTRING (599521.087 5552896.323, 599527.951...  \n"
     ]
    }
   ],
   "source": [
    "#load roads vector lines for tasmania, check row header and CRS\n",
    "roads = gpd.read_file('data/tas_roads.shp')\n",
    "print(roads.head())"
   ]
  },
  {
   "cell_type": "code",
   "execution_count": 8,
   "id": "616f8451",
   "metadata": {},
   "outputs": [
    {
     "name": "stdout",
     "output_type": "stream",
     "text": [
      "   DRILL_ID     NAME                       KEYWORDS              PURPOSE  \\\n",
      "0     614.0  Bore 1M  Tarraleah - Butlers Gorge Dam  Engineering geology   \n",
      "1     616.0  Bore 4L  Tarraleah - Butlers Gorge Dam  Engineering geology   \n",
      "2     617.0  Bore 5L  Tarraleah - Butlers Gorge Dam  Engineering geology   \n",
      "3     618.0  Bore 3M  Tarraleah - Butlers Gorge Dam  Engineering geology   \n",
      "4     620.0  Bore 7L  Tarraleah - Butlers Gorge Dam  Engineering geology   \n",
      "\n",
      "                     COMPANY DRILL_TYPE DATE_DRILL  LENGTH  AZIMUTH  DIP  \\\n",
      "0  Hydro Electric Commission    Diamond    01/1938    26.0      0.0  0.0   \n",
      "1  Hydro Electric Commission    Diamond    01/1938    22.0      0.0  0.0   \n",
      "2  Hydro Electric Commission    Diamond    01/1938    17.0      0.0  0.0   \n",
      "3  Hydro Electric Commission    Diamond    01/1938     6.0      0.0  0.0   \n",
      "4  Hydro Electric Commission    Diamond    01/1938    39.0      0.0  0.0   \n",
      "\n",
      "      RL                     geometry  \n",
      "0  730.0  POINT (146.26172 -42.26638)  \n",
      "1  730.0  POINT (146.26172 -42.26638)  \n",
      "2  730.0  POINT (146.26172 -42.26638)  \n",
      "3  730.0  POINT (146.26172 -42.26638)  \n",
      "4  730.0  POINT (146.26172 -42.26638)  \n"
     ]
    }
   ],
   "source": [
    "#load boreholes vector points for tasmania, check row header and CRS\n",
    "bhs = gpd.read_file('data/drill_eng_geo.shp')\n",
    "print(bhs.head())"
   ]
  },
  {
   "cell_type": "code",
   "execution_count": 9,
   "id": "113b5f12",
   "metadata": {},
   "outputs": [
    {
     "name": "stdout",
     "output_type": "stream",
     "text": [
      "epsg:7844\n",
      "epsg:28355\n",
      "epsg:28355\n",
      "epsg:28355\n",
      "epsg:4283\n"
     ]
    }
   ],
   "source": [
    "#check crs of each layer\n",
    "print(lga.crs)\n",
    "print(land.crs)\n",
    "print(water.crs)\n",
    "print(roads.crs)\n",
    "print(bhs.crs)"
   ]
  },
  {
   "cell_type": "code",
   "execution_count": 10,
   "id": "e7fd6443",
   "metadata": {},
   "outputs": [],
   "source": [
    "#change projection to web mercator (so same as basemap that will be added later, note epsg20251 is correct for Aus)\n",
    "lga = lga.to_crs(epsg=3857)\n",
    "land = land.to_crs(epsg=3857)\n",
    "water = water.to_crs(epsg=3857)\n",
    "roads = roads.to_crs(epsg=3857)\n",
    "bhs = bhs.to_crs(epsg=3857)"
   ]
  },
  {
   "cell_type": "code",
   "execution_count": 11,
   "id": "50ff0185",
   "metadata": {},
   "outputs": [
    {
     "data": {
      "text/plain": [
       "True"
      ]
     },
     "execution_count": 11,
     "metadata": {},
     "output_type": "execute_result"
    }
   ],
   "source": [
    "#check all crs match, use assert to raise an error if not true\n",
    "lga.crs == land.crs == water.crs == roads.crs == bhs.crs"
   ]
  },
  {
   "cell_type": "code",
   "execution_count": 12,
   "id": "05fe1c20",
   "metadata": {},
   "outputs": [],
   "source": [
    "#create a subset of tas lgas to get central highlands lga\n",
    "#see https://geopandas.org/en/stable/gallery/plot_clip.html\n",
    "ch_lga = lga[lga[\"LGA_NAME\"] == \"Central Highlands Council\"]"
   ]
  },
  {
   "cell_type": "code",
   "execution_count": 13,
   "id": "a66c8ecd",
   "metadata": {},
   "outputs": [
    {
     "data": {
      "text/plain": [
       "<AxesSubplot:>"
      ]
     },
     "execution_count": 13,
     "metadata": {},
     "output_type": "execute_result"
    },
    {
     "data": {
      "image/png": "[encoded data removed]",
      "text/plain": [
       "<Figure size 432x288 with 1 Axes>"
      ]
     },
     "metadata": {
      "needs_background": "light"
     },
     "output_type": "display_data"
    }
   ],
   "source": [
    "#plot extent of lga\n",
    "ch_lga.plot()"
   ]
  },
  {
   "cell_type": "code",
   "execution_count": 20,
   "id": "912425a8",
   "metadata": {},
   "outputs": [],
   "source": [
    "#clip all state wide vector layers to central highlands lga subset\n",
    "#https://geopandas.org/en/stable/docs/reference/api/geopandas.clip.html\n",
    "land_clip = gpd.clip(land, ch_lga)\n",
    "water_clip = gpd.clip(water, ch_lga)\n",
    "roads_clip = gpd.clip(roads, ch_lga)\n",
    "bhs_clip = gpd.clip(bhs, ch_lga)"
   ]
  },
  {
   "cell_type": "code",
   "execution_count": 21,
   "id": "9f0c35f2",
   "metadata": {},
   "outputs": [
    {
     "data": {
      "text/plain": [
       "<AxesSubplot:>"
      ]
     },
     "execution_count": 21,
     "metadata": {},
     "output_type": "execute_result"
    },
    {
     "data": {
      "image/png": "[encoded data removed]",
      "text/plain": [
       "<Figure size 432x288 with 1 Axes>"
      ]
     },
     "metadata": {
      "needs_background": "light"
     },
     "output_type": "display_data"
    },
    {
     "data": {
      "image/png": "[encoded data removed]",
      "text/plain": [
       "<Figure size 432x288 with 1 Axes>"
      ]
     },
     "metadata": {
      "needs_background": "light"
     },
     "output_type": "display_data"
    },
    {
     "data": {
      "image/png": "[encoded data removed]",
      "text/plain": [
       "<Figure size 432x288 with 1 Axes>"
      ]
     },
     "metadata": {
      "needs_background": "light"
     },
     "output_type": "display_data"
    },
    {
     "data": {
      "image/png": "[encoded data removed]",
      "text/plain": [
       "<Figure size 432x288 with 1 Axes>"
      ]
     },
     "metadata": {
      "needs_background": "light"
     },
     "output_type": "display_data"
    }
   ],
   "source": [
    "land_clip.plot()\n",
    "water_clip.plot()\n",
    "roads_clip.plot()\n",
    "bhs_clip.plot()"
   ]
  },
  {
   "cell_type": "code",
   "execution_count": 30,
   "id": "90ff311b",
   "metadata": {},
   "outputs": [
    {
     "name": "stdout",
     "output_type": "stream",
     "text": [
      "            LS_REGION     RAINFALL            GEO_AGE  \\\n",
      "1113  Central Plateau  1500-2000mm  Triassic-Jurassic   \n",
      "1113  Central Plateau  1500-2000mm  Triassic-Jurassic   \n",
      "1113  Central Plateau  1500-2000mm  Triassic-Jurassic   \n",
      "1113  Central Plateau  1500-2000mm  Triassic-Jurassic   \n",
      "1113  Central Plateau  1500-2000mm  Triassic-Jurassic   \n",
      "\n",
      "                                      ROCK      ALTITUDE           LANDFORM  \\\n",
      "1113  Metamorphic (e.g. quartzite, schist)  900 to 1200m  Undulating Plains   \n",
      "1113  Metamorphic (e.g. quartzite, schist)  900 to 1200m  Undulating Plains   \n",
      "1113  Metamorphic (e.g. quartzite, schist)  900 to 1200m  Undulating Plains   \n",
      "1113  Metamorphic (e.g. quartzite, schist)  900 to 1200m  Undulating Plains   \n",
      "1113  Metamorphic (e.g. quartzite, schist)  900 to 1200m  Undulating Plains   \n",
      "\n",
      "                                               URL_LINK  \\\n",
      "1113  https://nrmdatalibrary.dpipwe.tas.gov.au/FactS...   \n",
      "1113  https://nrmdatalibrary.dpipwe.tas.gov.au/FactS...   \n",
      "1113  https://nrmdatalibrary.dpipwe.tas.gov.au/FactS...   \n",
      "1113  https://nrmdatalibrary.dpipwe.tas.gov.au/FactS...   \n",
      "1113  https://nrmdatalibrary.dpipwe.tas.gov.au/FactS...   \n",
      "\n",
      "                                               geometry  index_right  WB_ID  \\\n",
      "1113  POLYGON ((16309025.453 -5121656.167, 16309052....          277  272.0   \n",
      "1113  POLYGON ((16309025.453 -5121656.167, 16309052....          274  269.0   \n",
      "1113  POLYGON ((16309025.453 -5121656.167, 16309052....          273  268.0   \n",
      "1113  POLYGON ((16309025.453 -5121656.167, 16309052....          272  267.0   \n",
      "1113  POLYGON ((16309025.453 -5121656.167, 16309052....          232  260.0   \n",
      "\n",
      "        WB_NAME        WB_AREA      WB_ELEV  SUBCAT_ID   WB_MAP  \\\n",
      "1113  Deep Lake  127254.089431  1216.247654    22005.0   BREONA   \n",
      "1113       None  328729.431068  1212.168710    22005.0  PILLANS   \n",
      "1113       None   11718.640849  1218.580614    22005.0   BREONA   \n",
      "1113       None   23328.029870  1212.522430    22005.0  PILLANS   \n",
      "1113       None   52815.932113  1217.027749    22005.0  PILLANS   \n",
      "\n",
      "                          WB_INFO     SHAPE_AREA    SHAPE_LEN  \n",
      "1113  https://wrt.tas.gov.au/cfev  127254.089431  1832.380254  \n",
      "1113  https://wrt.tas.gov.au/cfev  328729.431068  4513.170317  \n",
      "1113  https://wrt.tas.gov.au/cfev   11718.640849   530.995626  \n",
      "1113  https://wrt.tas.gov.au/cfev   23328.029870  1506.781879  \n",
      "1113  https://wrt.tas.gov.au/cfev   52815.932113  1783.684328  \n"
     ]
    }
   ],
   "source": [
    "#spatial join between clipped land and water layers and show table\n",
    "join_lw = gpd.sjoin(land_clip, water_clip, how='inner', lsuffix='left', rsuffix='right')\n",
    "print(join_lw.head())"
   ]
  },
  {
   "cell_type": "code",
   "execution_count": 31,
   "id": "70da9884",
   "metadata": {},
   "outputs": [],
   "source": [
    "#drop the index_right column in order to do second join (python wont allow multiple columns by same name)\n",
    "join_lw.drop('index_right', axis=1, inplace=True)"
   ]
  },
  {
   "cell_type": "code",
   "execution_count": 32,
   "id": "de3d032c",
   "metadata": {},
   "outputs": [
    {
     "name": "stdout",
     "output_type": "stream",
     "text": [
      "            LS_REGION RAINFALL GEO_AGE  ROCK ALTITUDE LANDFORM URL_LINK  \\\n",
      "1798  Central Plateau     None    None  None     None     None     None   \n",
      "1798  Central Plateau     None    None  None     None     None     None   \n",
      "1798  Central Plateau     None    None  None     None     None     None   \n",
      "1798  Central Plateau     None    None  None     None     None     None   \n",
      "1798  Central Plateau     None    None  None     None     None     None   \n",
      "\n",
      "                                               geometry   WB_ID  \\\n",
      "1798  POLYGON ((16264597.850 -5164812.010, 16264557....  1013.0   \n",
      "1798  POLYGON ((16264597.850 -5164812.010, 16264557....  1092.0   \n",
      "1798  POLYGON ((16264597.850 -5164812.010, 16264557....  1013.0   \n",
      "1798  POLYGON ((16264597.850 -5164812.010, 16264557....  1092.0   \n",
      "1798  POLYGON ((16264597.850 -5164812.010, 16264557....  1013.0   \n",
      "\n",
      "              WB_NAME  ...     NAME           KEYWORDS              PURPOSE  \\\n",
      "1798    Lake St Clair  ...  Bore 3L  Lake St Clair Dam  Engineering geology   \n",
      "1798  St Clair Lagoon  ...  Bore 3L  Lake St Clair Dam  Engineering geology   \n",
      "1798    Lake St Clair  ...  Bore 4L  Lake St Clair Dam  Engineering geology   \n",
      "1798  St Clair Lagoon  ...  Bore 4L  Lake St Clair Dam  Engineering geology   \n",
      "1798    Lake St Clair  ...  Bore 5L  Lake St Clair Dam  Engineering geology   \n",
      "\n",
      "                        COMPANY DRILL_TYPE  DATE_DRILL  LENGTH  AZIMUTH   DIP  \\\n",
      "1798  Hydro Electric Commission    Diamond     03/1939    24.0      0.0 -90.0   \n",
      "1798  Hydro Electric Commission    Diamond     03/1939    24.0      0.0 -90.0   \n",
      "1798  Hydro Electric Commission    Diamond     03/1939    23.0      0.0 -90.0   \n",
      "1798  Hydro Electric Commission    Diamond     03/1939    23.0      0.0 -90.0   \n",
      "1798  Hydro Electric Commission    Diamond     03/1939    24.0      0.0 -90.0   \n",
      "\n",
      "         RL  \n",
      "1798  730.0  \n",
      "1798  730.0  \n",
      "1798  730.0  \n",
      "1798  730.0  \n",
      "1798  730.0  \n",
      "\n",
      "[5 rows x 29 columns]\n"
     ]
    }
   ],
   "source": [
    "#spatial join join_landwater to bh vector layer\n",
    "join_lwbhs = gpd.sjoin(join_lw, bhs_clip, how='inner')\n"
   ]
  },
  {
   "cell_type": "code",
   "execution_count": 77,
   "id": "d8a59458",
   "metadata": {},
   "outputs": [
    {
     "name": "stdout",
     "output_type": "stream",
     "text": [
      "            LS_REGION RAINFALL GEO_AGE  ROCK ALTITUDE LANDFORM  \\\n",
      "1798  Central Plateau     None    None  None     None     None   \n",
      "1798  Central Plateau     None    None  None     None     None   \n",
      "1798  Central Plateau     None    None  None     None     None   \n",
      "1798  Central Plateau     None    None  None     None     None   \n",
      "1798  Central Plateau     None    None  None     None     None   \n",
      "\n",
      "                                               geometry          WB_NAME  \\\n",
      "1798  POLYGON ((16264597.850 -5164812.010, 16264557....    Lake St Clair   \n",
      "1798  POLYGON ((16264597.850 -5164812.010, 16264557....  St Clair Lagoon   \n",
      "1798  POLYGON ((16264597.850 -5164812.010, 16264557....    Lake St Clair   \n",
      "1798  POLYGON ((16264597.850 -5164812.010, 16264557....  St Clair Lagoon   \n",
      "1798  POLYGON ((16264597.850 -5164812.010, 16264557....    Lake St Clair   \n",
      "\n",
      "           WB_AREA     WB_ELEV  ...     SHAPE_LEN  index_right  DRILL_ID  \\\n",
      "1798  2.903908e+07  730.357842  ...  42658.330630         1775     684.0   \n",
      "1798  9.136110e+05  732.545333  ...   8303.779274         1775     684.0   \n",
      "1798  2.903908e+07  730.357842  ...  42658.330630         1776     685.0   \n",
      "1798  9.136110e+05  732.545333  ...   8303.779274         1776     685.0   \n",
      "1798  2.903908e+07  730.357842  ...  42658.330630         1777     686.0   \n",
      "\n",
      "         NAME           KEYWORDS DATE_DRILL LENGTH  AZIMUTH   DIP     RL  \n",
      "1798  Bore 3L  Lake St Clair Dam    03/1939   24.0      0.0 -90.0  730.0  \n",
      "1798  Bore 3L  Lake St Clair Dam    03/1939   24.0      0.0 -90.0  730.0  \n",
      "1798  Bore 4L  Lake St Clair Dam    03/1939   23.0      0.0 -90.0  730.0  \n",
      "1798  Bore 4L  Lake St Clair Dam    03/1939   23.0      0.0 -90.0  730.0  \n",
      "1798  Bore 5L  Lake St Clair Dam    03/1939   24.0      0.0 -90.0  730.0  \n",
      "\n",
      "[5 rows x 21 columns]\n"
     ]
    }
   ],
   "source": [
    "print(join_lwbhs.head())"
   ]
  },
  {
   "cell_type": "code",
   "execution_count": null,
   "id": "e36f5951",
   "metadata": {},
   "outputs": [],
   "source": [
    "#drop unused columns to tidy table and better view data\n",
    "join_lwbhs.drop(['Index_right', 'URL_LINK', 'WB_ID', 'SUBCAT_ID', 'WB_MAP', 'WB_INFO', 'PURPOSE', 'COMPANY', 'DRILL_TYPE'], axis=1, inplace=True)\n",
    "print(join_lwbhs.head())"
   ]
  },
  {
   "cell_type": "code",
   "execution_count": 100,
   "id": "d133ee24",
   "metadata": {},
   "outputs": [],
   "source": [
    "#insert a column with area_km2\n",
    "#https://pandas.pydata.org/docs/getting_started/intro_tutorials/05_add_columns.html\n",
    "join_lwbhs[\"AREA_KM2\"] = join_lwbhs[\"SHAPE_AREA\"] / 1000000"
   ]
  },
  {
   "cell_type": "code",
   "execution_count": 79,
   "id": "e3415c47",
   "metadata": {},
   "outputs": [
    {
     "name": "stdout",
     "output_type": "stream",
     "text": [
      "LS_REGION        2\n",
      "RAINFALL         6\n",
      "GEO_AGE          6\n",
      "ROCK             6\n",
      "ALTITUDE         4\n",
      "LANDFORM         3\n",
      "geometry        19\n",
      "WB_NAME         20\n",
      "WB_AREA         22\n",
      "WB_ELEV         22\n",
      "SHAPE_AREA      22\n",
      "SHAPE_LEN       22\n",
      "index_right    226\n",
      "DRILL_ID       226\n",
      "NAME           222\n",
      "KEYWORDS        36\n",
      "DATE_DRILL     115\n",
      "LENGTH         155\n",
      "AZIMUTH         21\n",
      "DIP             15\n",
      "RL             102\n",
      "AREA_KM2        22\n",
      "dtype: int64\n"
     ]
    }
   ],
   "source": [
    "#run some queries\n",
    "#print unique values in each column\n",
    "print(join_lwbhs.nunique())"
   ]
  },
  {
   "cell_type": "code",
   "execution_count": 95,
   "id": "dca6425a",
   "metadata": {},
   "outputs": [
    {
     "name": "stdout",
     "output_type": "stream",
     "text": [
      "Landform: Hills (100-300m)\n",
      "Number of rows: 318 \n",
      "\n",
      "Landform: Low Hills (<100m)\n",
      "Number of rows: 11 \n",
      "\n",
      "Landform: Undulating Plains\n",
      "Number of rows: 47 \n",
      "\n"
     ]
    }
   ],
   "source": [
    "#Check landform category areas firstly group the data by class \n",
    "#https://autogis-site.readthedocs.io/en/latest/notebooks/L2/01-geopandas-basics.html\n",
    "grouped_landform = join_lwbhs.groupby('LANDFORM')\n",
    "\n",
    "# then iterate over the group\n",
    "for key, group in grouped_landform:\n",
    "\n",
    "    # Let's check how many rows each group has:\n",
    "    print('Landform:', key)\n",
    "    print('Number of rows:', len(group), \"\\n\")"
   ]
  },
  {
   "cell_type": "code",
   "execution_count": 91,
   "id": "f807c965",
   "metadata": {},
   "outputs": [
    {
     "name": "stdout",
     "output_type": "stream",
     "text": [
      "LANDFORM\n",
      "Hills (100-300m)     2253.0\n",
      "Low Hills (<100m)      38.0\n",
      "Undulating Plains    1959.0\n",
      "Name: AREA_KM2, dtype: float64\n"
     ]
    }
   ],
   "source": [
    "landform_area = grouped_landform.AREA_KM2.sum().round()\n",
    "print(landform_area)"
   ]
  },
  {
   "cell_type": "code",
   "execution_count": 96,
   "id": "3f2f5b31",
   "metadata": {},
   "outputs": [
    {
     "name": "stdout",
     "output_type": "stream",
     "text": [
      "Rock: Acid igneous (e.g. granite)\n",
      "Number of rows: 1 \n",
      "\n",
      "Rock: Basic igneous (e.g. dolerite, basalt)\n",
      "Number of rows: 50 \n",
      "\n",
      "Rock: Metamorphic (e.g. quartzite, schist)\n",
      "Number of rows: 117 \n",
      "\n",
      "Rock: Sedimentary arenaceous (e.g. sandstone)\n",
      "Number of rows: 92 \n",
      "\n",
      "Rock: Sedimentary argillaceous (e.g. mudstone)\n",
      "Number of rows: 57 \n",
      "\n",
      "Rock: Sedimentary calcareous (e.g. limestone, dolomite)\n",
      "Number of rows: 59 \n",
      "\n"
     ]
    }
   ],
   "source": [
    "#Check rock category areas, firstly group the data by class \n",
    "#https://autogis-site.readthedocs.io/en/latest/notebooks/L2/01-geopandas-basics.html\n",
    "grouped_rock = join_lwbhs.groupby('ROCK')\n",
    "\n",
    "# then iterate over the group\n",
    "for key, group in grouped_rock:\n",
    "\n",
    "    # Let's check how many rows each group has:\n",
    "    print('Rock:', key)\n",
    "    print('Number of rows:', len(group), \"\\n\")"
   ]
  },
  {
   "cell_type": "code",
   "execution_count": 98,
   "id": "410494cf",
   "metadata": {},
   "outputs": [
    {
     "name": "stdout",
     "output_type": "stream",
     "text": [
      "ROCK\n",
      "Acid igneous (e.g. granite)                             6.0\n",
      "Basic igneous (e.g. dolerite, basalt)                 155.0\n",
      "Metamorphic (e.g. quartzite, schist)                 1717.0\n",
      "Sedimentary arenaceous (e.g. sandstone)               126.0\n",
      "Sedimentary argillaceous (e.g. mudstone)             1991.0\n",
      "Sedimentary calcareous (e.g. limestone, dolomite)     255.0\n",
      "Name: AREA_KM2, dtype: float64\n"
     ]
    }
   ],
   "source": [
    "rock_area = grouped_rock.AREA_KM2.sum().round()\n",
    "print(rock_area)"
   ]
  },
  {
   "cell_type": "code",
   "execution_count": 84,
   "id": "967480b8",
   "metadata": {
    "scrolled": false
   },
   "outputs": [
    {
     "name": "stdout",
     "output_type": "stream",
     "text": [
      "ROCK                                               GEO_AGE                                             NAME    \n",
      "Acid igneous (e.g. granite)                        Precambrian                                         HEC-284     1\n",
      "Basic igneous (e.g. dolerite, basalt)              Cambrian                                            HEC-261     2\n",
      "                                                                                                       HEC-262     2\n",
      "                                                                                                       HEC-263     2\n",
      "                                                                                                       HEC-264     2\n",
      "                                                                                                                  ..\n",
      "Sedimentary calcareous (e.g. limestone, dolomite)  Lower Devonian-Tremadocian-Cambrian (Mathinna bed*  HEC-8512    2\n",
      "                                                                                                       HEC-8524    2\n",
      "                                                                                                       HEC-8525    2\n",
      "                                                                                                       HEC-8552    2\n",
      "                                                                                                       HEC-8554    2\n",
      "Name: LENGTH, Length: 147, dtype: int64\n"
     ]
    }
   ],
   "source": [
    "#name of each rock, geo age and count of bhs in each rock category in central highlands\n",
    "print(join_lwbhs.groupby(['ROCK', 'GEO_AGE', 'NAME'])['LENGTH'].count())"
   ]
  },
  {
   "cell_type": "code",
   "execution_count": 99,
   "id": "8d6d16a8",
   "metadata": {},
   "outputs": [
    {
     "name": "stdout",
     "output_type": "stream",
     "text": [
      "ROCK                                               GEO_AGE                                             NAME    \n",
      "Acid igneous (e.g. granite)                        Precambrian                                         HEC-284      18.90\n",
      "Basic igneous (e.g. dolerite, basalt)              Cambrian                                            HEC-261      73.86\n",
      "                                                                                                       HEC-262     123.14\n",
      "                                                                                                       HEC-263     122.74\n",
      "                                                                                                       HEC-264      73.60\n",
      "                                                                                                                    ...  \n",
      "Sedimentary calcareous (e.g. limestone, dolomite)  Lower Devonian-Tremadocian-Cambrian (Mathinna bed*  HEC-8512     91.44\n",
      "                                                                                                       HEC-8524    334.68\n",
      "                                                                                                       HEC-8525    289.56\n",
      "                                                                                                       HEC-8552    348.08\n",
      "                                                                                                       HEC-8554    265.80\n",
      "Name: LENGTH, Length: 147, dtype: float64\n"
     ]
    }
   ],
   "source": [
    "#name of each rock, geo age and sum of bhs depth in each rock category in central highlands\n",
    "print(join_lwbhs.groupby(['ROCK', 'GEO_AGE', 'NAME'])['LENGTH'].sum())"
   ]
  },
  {
   "cell_type": "code",
   "execution_count": null,
   "id": "2d738048",
   "metadata": {},
   "outputs": [],
   "source": []
  },
  {
   "cell_type": "code",
   "execution_count": null,
   "id": "66d347dd",
   "metadata": {},
   "outputs": [],
   "source": []
  }
 ],
 "metadata": {
  "kernelspec": {
   "display_name": "Python 3 (ipykernel)",
   "language": "python",
   "name": "python3"
  },
  "language_info": {
   "codemirror_mode": {
    "name": "ipython",
    "version": 3
   },
   "file_extension": ".py",
   "mimetype": "text/x-python",
   "name": "python",
   "nbconvert_exporter": "python",
   "pygments_lexer": "ipython3",
   "version": "3.8.8"
  }
 },
 "nbformat": 4,
 "nbformat_minor": 5
}

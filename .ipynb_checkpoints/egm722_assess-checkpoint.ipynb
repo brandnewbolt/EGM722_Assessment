{
 "cells": [
  {
   "cell_type": "code",
   "execution_count": null,
   "id": "773a88ad",
   "metadata": {},
   "outputs": [],
   "source": [
    "#docstring here - what does the code do?"
   ]
  },
  {
   "cell_type": "code",
   "execution_count": 1,
   "id": "1ba15c33",
   "metadata": {},
   "outputs": [
    {
     "data": {
      "text/plain": [
       "<matplotlib.pyplot._IonContext at 0x23bf953dcd0>"
      ]
     },
     "execution_count": 1,
     "metadata": {},
     "output_type": "execute_result"
    }
   ],
   "source": [
    "#import modules (straight from wk2&3 so far) - do i need more?\n",
    "import pandas as pd\n",
    "import geopandas as gpd\n",
    "import geopandas as gpd\n",
    "import matplotlib.pyplot as plt\n",
    "from cartopy.feature import ShapelyFeature\n",
    "import cartopy.crs as ccrs\n",
    "\n",
    "#enable interactive plotting\n",
    "plt.ion()"
   ]
  },
  {
   "cell_type": "code",
   "execution_count": 2,
   "id": "562d640b",
   "metadata": {},
   "outputs": [],
   "source": [
    "#Define functions\n",
    "#generate handles to create legend for map features\n",
    "def generate_handles(labels, colors, edge='k', alpha=1):\n",
    "    lc = len(colors)  # get the length of the color list\n",
    "    handles = []\n",
    "    for i in range(len(labels)):\n",
    "        handles.append(mpatches.Rectangle((0, 0), 1, 1, facecolor=colors[i % lc], edgecolor=edge, alpha=alpha))\n",
    "    return handles"
   ]
  },
  {
   "cell_type": "code",
   "execution_count": 3,
   "id": "fe3b9434",
   "metadata": {},
   "outputs": [],
   "source": [
    "# create a scale bar of length 20 km in the upper right corner of the map\n",
    "# adapted this question: https://stackoverflow.com/q/32333870\n",
    "# answered by SO user Siyh: https://stackoverflow.com/a/35705477\n",
    "def scale_bar(ax, location=(0.92, 0.95)):\n",
    "    llx0, llx1, lly0, lly1 = ax.get_extent(ccrs.PlateCarree())\n",
    "    sbllx = (llx1 + llx0) / 2\n",
    "    sblly = lly0 + (lly1 - lly0) * location[1]\n",
    "\n",
    "    tmc = ccrs.TransverseMercator(sbllx, sblly)\n",
    "    x0, x1, y0, y1 = ax.get_extent(tmc)\n",
    "    sbx = x0 + (x1 - x0) * location[0]\n",
    "    sby = y0 + (y1 - y0) * location[1]\n",
    "\n",
    "    plt.plot([sbx, sbx - 20000], [sby, sby], color='k', linewidth=9, transform=tmc)\n",
    "    plt.plot([sbx, sbx - 10000], [sby, sby], color='k', linewidth=6, transform=tmc)\n",
    "    plt.plot([sbx-10000, sbx - 20000], [sby, sby], color='w', linewidth=6, transform=tmc)\n",
    "\n",
    "    plt.text(sbx, sby-4500, '20 km', transform=tmc, fontsize=8)\n",
    "    plt.text(sbx-12500, sby-4500, '10 km', transform=tmc, fontsize=8)\n",
    "    plt.text(sbx-24500, sby-4500, '0 km', transform=tmc, fontsize=8)\n"
   ]
  },
  {
   "cell_type": "code",
   "execution_count": 19,
   "id": "f3ed6f7f",
   "metadata": {},
   "outputs": [
    {
     "name": "stdout",
     "output_type": "stream",
     "text": [
      "                    LGA_NAME           ABB_NAME STATE  Shape_Leng  Shape_Area  \\\n",
      "0  Central Highlands Council  Central Highlands   TAS    5.396386    0.870373   \n",
      "\n",
      "                                            geometry  \n",
      "0  POLYGON ((146.81862 -41.70170, 146.81876 -41.7...  \n"
     ]
    }
   ],
   "source": [
    "#load lga vector outline polygon for central highlands, check row header and CRS\n",
    "lga = gpd.read_file('data/ch_lga_ext.shp')\n",
    "print(lga.head())"
   ]
  },
  {
   "cell_type": "code",
   "execution_count": 20,
   "id": "96f4bcc4",
   "metadata": {},
   "outputs": [
    {
     "name": "stdout",
     "output_type": "stream",
     "text": [
      "     LS_REGION     RAINFALL  \\\n",
      "0  King Island   750-1000mm   \n",
      "1  King Island   750-1000mm   \n",
      "2  King Island  1000-1250mm   \n",
      "3  King Island   750-1000mm   \n",
      "4  King Island   750-1000mm   \n",
      "\n",
      "                                             GEO_AGE  \\\n",
      "0                                 Siliurian-Devonian   \n",
      "1                                 Siliurian-Devonian   \n",
      "2  Lower Devonian-Tremadocian-Cambrian (Mathinna ...   \n",
      "3                                 Siliurian-Devonian   \n",
      "4                                 Siliurian-Devonian   \n",
      "\n",
      "                                                ROCK   ALTITUDE  \\\n",
      "0           Sedimentary argillaceous (e.g. mudstone)  0 to 300m   \n",
      "1           Sedimentary argillaceous (e.g. mudstone)  0 to 300m   \n",
      "2  Sedimentary calcareous (e.g. limestone, dolomite)  0 to 300m   \n",
      "3           Sedimentary argillaceous (e.g. mudstone)  0 to 300m   \n",
      "4           Sedimentary argillaceous (e.g. mudstone)  0 to 300m   \n",
      "\n",
      "                    LANDFORM  \\\n",
      "0  Coastal dunes and beaches   \n",
      "1  Coastal dunes and beaches   \n",
      "2          Undulating Plains   \n",
      "3                Flat Plains   \n",
      "4          Undulating Plains   \n",
      "\n",
      "                                            URL_LINK  \\\n",
      "0  https://nrmdatalibrary.dpipwe.tas.gov.au/FactS...   \n",
      "1  https://nrmdatalibrary.dpipwe.tas.gov.au/FactS...   \n",
      "2  https://nrmdatalibrary.dpipwe.tas.gov.au/FactS...   \n",
      "3  https://nrmdatalibrary.dpipwe.tas.gov.au/FactS...   \n",
      "4  https://nrmdatalibrary.dpipwe.tas.gov.au/FactS...   \n",
      "\n",
      "                                            geometry  \n",
      "0  POLYGON ((247516.536 5608635.826, 247512.160 5...  \n",
      "1  POLYGON ((247039.063 5608241.825, 247049.814 5...  \n",
      "2  POLYGON ((245560.772 5606508.817, 245530.990 5...  \n",
      "3  POLYGON ((244783.226 5606785.814, 244827.101 5...  \n",
      "4  POLYGON ((239119.835 5606334.294, 239130.116 5...  \n"
     ]
    }
   ],
   "source": [
    "#load land vector polygons for tasmania, check row header and CRS\n",
    "land = gpd.read_file('data/land_100k.shp')\n",
    "print(land.head())"
   ]
  },
  {
   "cell_type": "code",
   "execution_count": 21,
   "id": "bc3037b6",
   "metadata": {},
   "outputs": [
    {
     "name": "stdout",
     "output_type": "stream",
     "text": [
      "   WB_ID           WB_NAME       WB_AREA    WB_ELEV  SUBCAT_ID     WB_MAP  \\\n",
      "0   37.0  Pearshape Lagoon  76739.706135  67.955810    10007.0  PEARSHAPE   \n",
      "1   38.0              None  15753.090750   1.170759    47044.0    SELLARS   \n",
      "2   39.0              None  77035.664648   1.199716    47044.0    SELLARS   \n",
      "3   40.0              None  10551.538700   0.192473    47046.0      LOGAN   \n",
      "4   41.0              None  11750.059306   2.025227    47046.0      LOGAN   \n",
      "\n",
      "                       WB_INFO    SHAPE_AREA    SHAPE_LEN  \\\n",
      "0  https://wrt.tas.gov.au/cfev  76739.706135  1149.462374   \n",
      "1  https://wrt.tas.gov.au/cfev  15753.090750   524.353991   \n",
      "2  https://wrt.tas.gov.au/cfev  77035.664648  1167.638141   \n",
      "3  https://wrt.tas.gov.au/cfev  10551.538700   554.163424   \n",
      "4  https://wrt.tas.gov.au/cfev  11750.059306   589.776428   \n",
      "\n",
      "                                            geometry  \n",
      "0  POLYGON ((237371.256 5561317.364, 237390.755 5...  \n",
      "1  POLYGON ((606643.582 5561066.260, 606657.882 5...  \n",
      "2  POLYGON ((606214.999 5560582.112, 606197.883 5...  \n",
      "3  POLYGON ((609396.746 5559288.219, 609387.447 5...  \n",
      "4  POLYGON ((609544.012 5558755.179, 609548.631 5...  \n"
     ]
    }
   ],
   "source": [
    "#load water vector polygons for tasmania, check row header and CRS\n",
    "water = gpd.read_file('data/water.shp')\n",
    "print(water.head())"
   ]
  },
  {
   "cell_type": "code",
   "execution_count": 22,
   "id": "03367759",
   "metadata": {},
   "outputs": [
    {
     "name": "stdout",
     "output_type": "stream",
     "text": [
      "  REGION ROAD_NO       ROAD_NAME  START_CHNG  END_CHNG  LANE_KM  \\\n",
      "0     NE   A0087     Midland Hwy        0.00      0.80     0.80   \n",
      "1     NE   A0087     Midland HWY        3.38      3.72     0.33   \n",
      "2     NE   A1468    Illawarra MR        2.72      2.89     0.17   \n",
      "3      S   A0498   South Arm HWY        0.00      0.02     0.02   \n",
      "4     NE   A1565  Lady Barron MR        0.00      9.46    18.92   \n",
      "\n",
      "               ROAD_CAT                                           geometry  \n",
      "0            Trunk Road  LINESTRING (512389.184 5397211.740, 512425.095...  \n",
      "1            Trunk Road  LINESTRING (514982.907 5396553.993, 514978.202...  \n",
      "2            Trunk Road  LINESTRING (509665.705 5396414.450, 509683.641...  \n",
      "3  Regional Access Road  LINESTRING (533241.099 5252633.985, 533250.220...  \n",
      "4            Other Road  LINESTRING (599521.087 5552896.323, 599527.951...  \n"
     ]
    }
   ],
   "source": [
    "#load roads vector lines for tasmania, check row header and CRS\n",
    "roads = gpd.read_file('data/tas_roads.shp')\n",
    "print(roads.head())"
   ]
  },
  {
   "cell_type": "code",
   "execution_count": 23,
   "id": "616f8451",
   "metadata": {},
   "outputs": [
    {
     "name": "stdout",
     "output_type": "stream",
     "text": [
      "   DRILL_ID     NAME                       KEYWORDS              PURPOSE  \\\n",
      "0     614.0  Bore 1M  Tarraleah - Butlers Gorge Dam  Engineering geology   \n",
      "1     616.0  Bore 4L  Tarraleah - Butlers Gorge Dam  Engineering geology   \n",
      "2     617.0  Bore 5L  Tarraleah - Butlers Gorge Dam  Engineering geology   \n",
      "3     618.0  Bore 3M  Tarraleah - Butlers Gorge Dam  Engineering geology   \n",
      "4     620.0  Bore 7L  Tarraleah - Butlers Gorge Dam  Engineering geology   \n",
      "\n",
      "                     COMPANY DRILL_TYPE DATE_DRILL  LENGTH  AZIMUTH  DIP  \\\n",
      "0  Hydro Electric Commission    Diamond    01/1938    26.0      0.0  0.0   \n",
      "1  Hydro Electric Commission    Diamond    01/1938    22.0      0.0  0.0   \n",
      "2  Hydro Electric Commission    Diamond    01/1938    17.0      0.0  0.0   \n",
      "3  Hydro Electric Commission    Diamond    01/1938     6.0      0.0  0.0   \n",
      "4  Hydro Electric Commission    Diamond    01/1938    39.0      0.0  0.0   \n",
      "\n",
      "      RL                     geometry  \n",
      "0  730.0  POINT (146.26172 -42.26638)  \n",
      "1  730.0  POINT (146.26172 -42.26638)  \n",
      "2  730.0  POINT (146.26172 -42.26638)  \n",
      "3  730.0  POINT (146.26172 -42.26638)  \n",
      "4  730.0  POINT (146.26172 -42.26638)  \n"
     ]
    }
   ],
   "source": [
    "#load boreholes vector points for tasmania, check row header and CRS\n",
    "bhs = gpd.read_file('data/drill_eng_geo.shp')\n",
    "print(bhs.head())"
   ]
  },
  {
   "cell_type": "code",
   "execution_count": 24,
   "id": "113b5f12",
   "metadata": {},
   "outputs": [
    {
     "name": "stdout",
     "output_type": "stream",
     "text": [
      "epsg:7844\n",
      "epsg:28355\n",
      "epsg:28355\n",
      "epsg:28355\n",
      "epsg:4283\n"
     ]
    }
   ],
   "source": [
    "#check crs of each layer\n",
    "print(lga.crs)\n",
    "print(land.crs)\n",
    "print(water.crs)\n",
    "print(roads.crs)\n",
    "print(bhs.crs)"
   ]
  },
  {
   "cell_type": "code",
   "execution_count": 25,
   "id": "e7fd6443",
   "metadata": {},
   "outputs": [],
   "source": [
    "#change projection to web mercator (so same as basemap that will be added later, note epsg20251 is correct for Aus)\n",
    "lga = lga.to_crs(epsg=3857)\n",
    "land = land.to_crs(epsg=3857)\n",
    "water = water.to_crs(epsg=3857)\n",
    "roads = roads.to_crs(epsg=3857)\n",
    "bhs = bhs.to_crs(epsg=3857)"
   ]
  },
  {
   "cell_type": "code",
   "execution_count": 26,
   "id": "557d620b",
   "metadata": {},
   "outputs": [
    {
     "data": {
      "text/plain": [
       "True"
      ]
     },
     "execution_count": 26,
     "metadata": {},
     "output_type": "execute_result"
    }
   ],
   "source": [
    "#check all crs match, use assert to raise an error if not true\n",
    "lga.crs == land.crs == water.crs == roads.crs == bhs.crs"
   ]
  },
  {
   "cell_type": "code",
   "execution_count": 27,
   "id": "57efe955",
   "metadata": {},
   "outputs": [
    {
     "data": {
      "text/plain": [
       "<AxesSubplot:>"
      ]
     },
     "execution_count": 27,
     "metadata": {},
     "output_type": "execute_result"
    },
    {
     "data": {
      "image/png": "[encoded data removed]",
      "text/plain": [
       "<Figure size 432x288 with 1 Axes>"
      ]
     },
     "metadata": {
      "needs_background": "light"
     },
     "output_type": "display_data"
    }
   ],
   "source": [
    "#plot extent of lga\n",
    "ch_lga.plot()"
   ]
  },
  {
   "cell_type": "code",
   "execution_count": 30,
   "id": "23b346f3",
   "metadata": {},
   "outputs": [],
   "source": [
    "#clip all state wide vector layers to central highlands lga subset\n",
    "#see https://geopandas.org/en/stable/gallery/plot_clip.html\n",
    "bhs_clip = gpd.clip(bhs, lga)\n"
   ]
  },
  {
   "cell_type": "code",
   "execution_count": 31,
   "id": "e00dc5d0",
   "metadata": {},
   "outputs": [
    {
     "data": {
      "text/plain": [
       "<AxesSubplot:>"
      ]
     },
     "execution_count": 31,
     "metadata": {},
     "output_type": "execute_result"
    },
    {
     "data": {
      "image/png": "[encoded data removed]",
      "text/plain": [
       "<Figure size 432x288 with 1 Axes>"
      ]
     },
     "metadata": {
      "needs_background": "light"
     },
     "output_type": "display_data"
    }
   ],
   "source": [
    "bhs_clip.plot()"
   ]
  },
  {
   "cell_type": "code",
   "execution_count": 33,
   "id": "080e481d",
   "metadata": {},
   "outputs": [],
   "source": [
    "land_clip = gpd.clip(land, lga)"
   ]
  },
  {
   "cell_type": "markdown",
   "id": "31691e4f",
   "metadata": {},
   "source": []
  },
  {
   "cell_type": "code",
   "execution_count": 34,
   "id": "55b0bd7f",
   "metadata": {},
   "outputs": [
    {
     "data": {
      "text/plain": [
       "<AxesSubplot:>"
      ]
     },
     "execution_count": 34,
     "metadata": {},
     "output_type": "execute_result"
    },
    {
     "data": {
      "image/png": "[encoded data removed]",
      "text/plain": [
       "<Figure size 432x288 with 1 Axes>"
      ]
     },
     "metadata": {
      "needs_background": "light"
     },
     "output_type": "display_data"
    }
   ],
   "source": [
    "land_clip.plot()"
   ]
  },
  {
   "cell_type": "code",
   "execution_count": null,
   "id": "c1aef2a7",
   "metadata": {},
   "outputs": [],
   "source": []
  },
  {
   "cell_type": "code",
   "execution_count": null,
   "id": "76d595cb",
   "metadata": {},
   "outputs": [],
   "source": []
  },
  {
   "cell_type": "code",
   "execution_count": null,
   "id": "28a103e1",
   "metadata": {},
   "outputs": [],
   "source": []
  }
 ],
 "metadata": {
  "kernelspec": {
   "display_name": "Python 3 (ipykernel)",
   "language": "python",
   "name": "python3"
  },
  "language_info": {
   "codemirror_mode": {
    "name": "ipython",
    "version": 3
   },
   "file_extension": ".py",
   "mimetype": "text/x-python",
   "name": "python",
   "nbconvert_exporter": "python",
   "pygments_lexer": "ipython3",
   "version": "3.8.8"
  }
 },
 "nbformat": 4,
 "nbformat_minor": 5
}
